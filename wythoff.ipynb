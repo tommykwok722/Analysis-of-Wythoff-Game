{
 "cells": [
  {
   "cell_type": "markdown",
   "id": "7490d4d9",
   "metadata": {},
   "source": [
    "In the following program `wythoff.m`, we will determine all the **N-positions** and **P-positions** according to the number of chips of the piles. User are required to input the number of chips of the two piles. The output will be a matrix to show all \n",
    "N-positions and P-positions, and a plot to illustrate the pattern of P-positions. <br>\n",
    "*(Remark: It does not matter whether the first input is greater or smaller than the second input)*\n",
    "\n",
    "Originally, users are required to input the number of chips of the two piles. Here we just assigned values to the variables P1 and P2 to illustrate some sample output."
   ]
  },
  {
   "cell_type": "raw",
   "id": "9bc4f23b",
   "metadata": {},
   "source": [
    "while true\n",
    "    P1 = input('Input number of chips of the 1st pile: ');\n",
    "    P2 = input('Input number of chips of the 2nd pile: ');\n",
    "    if P1 == 0 & P2 == 0\n",
    "        fprintf('The piles must be non-empty.\\n')\n",
    "        continue;\n",
    "    end\n",
    "    break;\n",
    "end"
   ]
  },
  {
   "cell_type": "markdown",
   "id": "b66ab603",
   "metadata": {},
   "source": [
    "#### Example 1:\n",
    "4 chips in the 1st pile and 7 chips in the 2nd pile"
   ]
  },
  {
   "cell_type": "code",
   "execution_count": 1,
   "id": "d193273b",
   "metadata": {},
   "outputs": [
    {
     "name": "stdout",
     "output_type": "stream",
     "text": [
      "\n"
     ]
    }
   ],
   "source": [
    "P1 = 4;\n",
    "P2 = 7;"
   ]
  },
  {
   "cell_type": "markdown",
   "id": "995baddd",
   "metadata": {},
   "source": [
    "Define **M** to an empty matrix."
   ]
  },
  {
   "cell_type": "code",
   "execution_count": 2,
   "id": "17d1e315",
   "metadata": {},
   "outputs": [
    {
     "name": "stdout",
     "output_type": "stream",
     "text": [
      "\n"
     ]
    }
   ],
   "source": [
    "M = repmat(' ', [P1+1 P2+1]);"
   ]
  },
  {
   "cell_type": "markdown",
   "id": "64fc4d45",
   "metadata": {},
   "source": [
    "Check all possible moves to determine P-position and N-position."
   ]
  },
  {
   "cell_type": "code",
   "execution_count": 3,
   "id": "731e39d3",
   "metadata": {},
   "outputs": [
    {
     "name": "stdout",
     "output_type": "stream",
     "text": [
      "\n"
     ]
    }
   ],
   "source": [
    "for i = 0:P1\n",
    "    for j = 0:P2\n",
    "        % Terminal position is a P-position\n",
    "        if i == 0 && j == 0\n",
    "            M(i+1, j+1) = 'P';\n",
    "            continue;\n",
    "        end\n",
    "        \n",
    "        % Check vertical\n",
    "        for k = i-1:-1:0\n",
    "            if M(k+1, j+1) == 'P'\n",
    "                M(i+1, j+1) = 'N';\n",
    "                break;\n",
    "            end\n",
    "        end\n",
    "        \n",
    "        % Check horizontal\n",
    "        for k = j-1:-1:0\n",
    "            if M(i+1, k+1) == 'P'\n",
    "                M(i+1, j+1) = 'N';\n",
    "                break;\n",
    "            end\n",
    "        end\n",
    "        \n",
    "        % Check diagonal\n",
    "        for k = 1:min(i, j)\n",
    "            if M(i-k+1, j-k+1) == 'P'\n",
    "                M(i+1, j+1) = 'N';\n",
    "                break;\n",
    "            end\n",
    "        end\n",
    "        \n",
    "        % If it is not a N-position, then it must be a P-position\n",
    "        if M(i+1, j+1) == ' '\n",
    "            M(i+1, j+1) = 'P';\n",
    "        end\n",
    "    end \n",
    "end"
   ]
  },
  {
   "cell_type": "markdown",
   "id": "6c982451",
   "metadata": {},
   "source": [
    "**Output 1:** A matrix showing all P-positions and N-Positions"
   ]
  },
  {
   "cell_type": "code",
   "execution_count": 4,
   "id": "53409be3",
   "metadata": {},
   "outputs": [
    {
     "name": "stdout",
     "output_type": "stream",
     "text": [
      "    0   1   2   3   4   5   6   7   \n",
      "0   P   N   N   N   N   N   N   N   \n",
      "1   N   N   P   N   N   N   N   N   \n",
      "2   N   P   N   N   N   N   N   N   \n",
      "3   N   N   N   N   N   P   N   N   \n",
      "4   N   N   N   N   N   N   N   P   \n",
      "\n"
     ]
    }
   ],
   "source": [
    "% Display matrix of P-Positions and N-positions\n",
    "fprintf('    ')\n",
    "for i = 0:P2\n",
    "    fprintf('%-4d', i)\n",
    "end\n",
    "fprintf('\\n')\n",
    "\n",
    "for i = 1:P1+1\n",
    "    fprintf('%-4d', i-1)\n",
    "    for j = 1:P2+1\n",
    "        fprintf('%-4c', M(i, j))\n",
    "    end\n",
    "    fprintf('\\n')\n",
    "end"
   ]
  },
  {
   "cell_type": "markdown",
   "id": "e87ebff2",
   "metadata": {},
   "source": [
    "**Output 2:** A plot showing the pattern of P-positions"
   ]
  },
  {
   "cell_type": "code",
   "execution_count": 5,
   "id": "ead878fc",
   "metadata": {},
   "outputs": [
    {
     "name": "stdout",
     "output_type": "stream",
     "text": [
      "\n"
     ]
    },
    {
     "data": {
      "image/png": "[encoded data removed]",
      "text/plain": [
       "<IPython.core.display.Image object>"
      ]
     },
     "metadata": {},
     "output_type": "display_data"
    }
   ],
   "source": [
    "% A visualization of Wythoff's game\n",
    "n = 1;\n",
    "X = []; Y = [];\n",
    "\n",
    "for i = 1:size(M, 1)\n",
    "    for j = 1:size(M, 2)\n",
    "        if M(i, j) == 'P'\n",
    "            X(n) = i - 1;\n",
    "            Y(n) = j - 1;\n",
    "            n = n + 1;\n",
    "        end\n",
    "    end\n",
    "end\n",
    "\n",
    "plot(X, Y, 'rx')\n",
    "title('A visualization of Wythoff''s Game')\n",
    "grid on"
   ]
  },
  {
   "cell_type": "markdown",
   "id": "baf9f124",
   "metadata": {},
   "source": [
    "#### Example 2:\n",
    "10 chips in the 1st pile and 5 chips in the 2nd pile"
   ]
  },
  {
   "cell_type": "code",
   "execution_count": 6,
   "id": "2e379fd9",
   "metadata": {},
   "outputs": [
    {
     "name": "stdout",
     "output_type": "stream",
     "text": [
      "    0   1   2   3   4   5   \n",
      "0   P   N   N   N   N   N   \n",
      "1   N   N   P   N   N   N   \n",
      "2   N   P   N   N   N   N   \n",
      "3   N   N   N   N   N   P   \n",
      "4   N   N   N   N   N   N   \n",
      "5   N   N   N   P   N   N   \n",
      "6   N   N   N   N   N   N   \n",
      "7   N   N   N   N   P   N   \n",
      "8   N   N   N   N   N   N   \n",
      "9   N   N   N   N   N   N   \n",
      "10  N   N   N   N   N   N   \n",
      "\n"
     ]
    },
    {
     "data": {
      "image/png": "[encoded data removed]",
      "text/plain": [
       "<IPython.core.display.Image object>"
      ]
     },
     "metadata": {},
     "output_type": "display_data"
    }
   ],
   "source": [
    "clear all\n",
    "\n",
    "P1 = 10;\n",
    "P2 = 5;\n",
    "\n",
    "M = repmat(' ', [P1+1 P2+1]);\n",
    "\n",
    "for i = 0:P1\n",
    "    for j = 0:P2\n",
    "        % Terminal position is a P-position\n",
    "        if i == 0 && j == 0\n",
    "            M(i+1, j+1) = 'P';\n",
    "            continue;\n",
    "        end\n",
    "        \n",
    "        % Check vertical\n",
    "        for k = i-1:-1:0\n",
    "            if M(k+1, j+1) == 'P'\n",
    "                M(i+1, j+1) = 'N';\n",
    "                break;\n",
    "            end\n",
    "        end\n",
    "        \n",
    "        % Check horizontal\n",
    "        for k = j-1:-1:0\n",
    "            if M(i+1, k+1) == 'P'\n",
    "                M(i+1, j+1) = 'N';\n",
    "                break;\n",
    "            end\n",
    "        end\n",
    "        \n",
    "        % Check diagonal\n",
    "        for k = 1:min(i, j)\n",
    "            if M(i-k+1, j-k+1) == 'P'\n",
    "                M(i+1, j+1) = 'N';\n",
    "                break;\n",
    "            end\n",
    "        end\n",
    "        \n",
    "        % If it is not a N-position, then it must be a P-position\n",
    "        if M(i+1, j+1) == ' '\n",
    "            M(i+1, j+1) = 'P';\n",
    "        end\n",
    "    end \n",
    "end\n",
    "\n",
    "% Display matrix of N-Positions and P-positions\n",
    "% Comment out line 57-73 if the output matrix is too large\n",
    "fprintf('    ')\n",
    "for i = 0:P2\n",
    "    fprintf('%-4d', i)\n",
    "end\n",
    "fprintf('\\n')\n",
    "\n",
    "for i = 1:P1+1\n",
    "    fprintf('%-4d', i-1)\n",
    "    for j = 1:P2+1\n",
    "        fprintf('%-4c', M(i, j))\n",
    "    end\n",
    "    fprintf('\\n')\n",
    "end\n",
    "\n",
    "% A visualization of Wythoff's game\n",
    "n = 1;\n",
    "X = []; Y = [];\n",
    "\n",
    "for i = 1:size(M, 1)\n",
    "    for j = 1:size(M, 2)\n",
    "        if M(i, j) == 'P'\n",
    "            X(n) = i - 1;\n",
    "            Y(n) = j - 1;\n",
    "            n = n + 1;\n",
    "        end\n",
    "    end\n",
    "end\n",
    "\n",
    "plot(X, Y, 'rx')\n",
    "title('A visualization of Wythoff''s Game')\n",
    "grid on"
   ]
  },
  {
   "cell_type": "markdown",
   "id": "352a3684",
   "metadata": {},
   "source": [
    "#### Example 3:\n",
    "30 chips in the 1st pile and 30 chips in the 2nd pile"
   ]
  },
  {
   "cell_type": "code",
   "execution_count": 8,
   "id": "909e5f13",
   "metadata": {},
   "outputs": [
    {
     "name": "stdout",
     "output_type": "stream",
     "text": [
      "    0   1   2   3   4   5   6   7   8   9   10  11  12  13  14  15  16  17  18  19  20  21  22  23  24  25  26  27  28  29  30  \n",
      "0   P   N   N   N   N   N   N   N   N   N   N   N   N   N   N   N   N   N   N   N   N   N   N   N   N   N   N   N   N   N   N   \n",
      "1   N   N   P   N   N   N   N   N   N   N   N   N   N   N   N   N   N   N   N   N   N   N   N   N   N   N   N   N   N   N   N   \n",
      "2   N   P   N   N   N   N   N   N   N   N   N   N   N   N   N   N   N   N   N   N   N   N   N   N   N   N   N   N   N   N   N   \n",
      "3   N   N   N   N   N   P   N   N   N   N   N   N   N   N   N   N   N   N   N   N   N   N   N   N   N   N   N   N   N   N   N   \n",
      "4   N   N   N   N   N   N   N   P   N   N   N   N   N   N   N   N   N   N   N   N   N   N   N   N   N   N   N   N   N   N   N   \n",
      "5   N   N   N   P   N   N   N   N   N   N   N   N   N   N   N   N   N   N   N   N   N   N   N   N   N   N   N   N   N   N   N   \n",
      "6   N   N   N   N   N   N   N   N   N   N   P   N   N   N   N   N   N   N   N   N   N   N   N   N   N   N   N   N   N   N   N   \n",
      "7   N   N   N   N   P   N   N   N   N   N   N   N   N   N   N   N   N   N   N   N   N   N   N   N   N   N   N   N   N   N   N   \n",
      "8   N   N   N   N   N   N   N   N   N   N   N   N   N   P   N   N   N   N   N   N   N   N   N   N   N   N   N   N   N   N   N   \n",
      "9   N   N   N   N   N   N   N   N   N   N   N   N   N   N   N   P   N   N   N   N   N   N   N   N   N   N   N   N   N   N   N   \n",
      "10  N   N   N   N   N   N   P   N   N   N   N   N   N   N   N   N   N   N   N   N   N   N   N   N   N   N   N   N   N   N   N   \n",
      "11  N   N   N   N   N   N   N   N   N   N   N   N   N   N   N   N   N   N   P   N   N   N   N   N   N   N   N   N   N   N   N   \n",
      "12  N   N   N   N   N   N   N   N   N   N   N   N   N   N   N   N   N   N   N   N   P   N   N   N   N   N   N   N   N   N   N   \n",
      "13  N   N   N   N   N   N   N   N   P   N   N   N   N   N   N   N   N   N   N   N   N   N   N   N   N   N   N   N   N   N   N   \n",
      "14  N   N   N   N   N   N   N   N   N   N   N   N   N   N   N   N   N   N   N   N   N   N   N   P   N   N   N   N   N   N   N   \n",
      "15  N   N   N   N   N   N   N   N   N   P   N   N   N   N   N   N   N   N   N   N   N   N   N   N   N   N   N   N   N   N   N   \n",
      "16  N   N   N   N   N   N   N   N   N   N   N   N   N   N   N   N   N   N   N   N   N   N   N   N   N   N   P   N   N   N   N   \n",
      "17  N   N   N   N   N   N   N   N   N   N   N   N   N   N   N   N   N   N   N   N   N   N   N   N   N   N   N   N   P   N   N   \n",
      "18  N   N   N   N   N   N   N   N   N   N   N   P   N   N   N   N   N   N   N   N   N   N   N   N   N   N   N   N   N   N   N   \n",
      "19  N   N   N   N   N   N   N   N   N   N   N   N   N   N   N   N   N   N   N   N   N   N   N   N   N   N   N   N   N   N   N   \n",
      "20  N   N   N   N   N   N   N   N   N   N   N   N   P   N   N   N   N   N   N   N   N   N   N   N   N   N   N   N   N   N   N   \n",
      "21  N   N   N   N   N   N   N   N   N   N   N   N   N   N   N   N   N   N   N   N   N   N   N   N   N   N   N   N   N   N   N   \n",
      "22  N   N   N   N   N   N   N   N   N   N   N   N   N   N   N   N   N   N   N   N   N   N   N   N   N   N   N   N   N   N   N   \n",
      "23  N   N   N   N   N   N   N   N   N   N   N   N   N   N   P   N   N   N   N   N   N   N   N   N   N   N   N   N   N   N   N   \n",
      "24  N   N   N   N   N   N   N   N   N   N   N   N   N   N   N   N   N   N   N   N   N   N   N   N   N   N   N   N   N   N   N   \n",
      "25  N   N   N   N   N   N   N   N   N   N   N   N   N   N   N   N   N   N   N   N   N   N   N   N   N   N   N   N   N   N   N   \n",
      "26  N   N   N   N   N   N   N   N   N   N   N   N   N   N   N   N   P   N   N   N   N   N   N   N   N   N   N   N   N   N   N   \n",
      "27  N   N   N   N   N   N   N   N   N   N   N   N   N   N   N   N   N   N   N   N   N   N   N   N   N   N   N   N   N   N   N   \n",
      "28  N   N   N   N   N   N   N   N   N   N   N   N   N   N   N   N   N   P   N   N   N   N   N   N   N   N   N   N   N   N   N   \n",
      "29  N   N   N   N   N   N   N   N   N   N   N   N   N   N   N   N   N   N   N   N   N   N   N   N   N   N   N   N   N   N   N   \n",
      "30  N   N   N   N   N   N   N   N   N   N   N   N   N   N   N   N   N   N   N   N   N   N   N   N   N   N   N   N   N   N   N   \n",
      "\n"
     ]
    },
    {
     "data": {
      "image/png": "[encoded data removed]",
      "text/plain": [
       "<IPython.core.display.Image object>"
      ]
     },
     "metadata": {},
     "output_type": "display_data"
    }
   ],
   "source": [
    "clear all\n",
    "\n",
    "P1 = 30;\n",
    "P2 = 30;\n",
    "\n",
    "M = repmat(' ', [P1+1 P2+1]);\n",
    "\n",
    "for i = 0:P1\n",
    "    for j = 0:P2\n",
    "        % Terminal position is a P-position\n",
    "        if i == 0 && j == 0\n",
    "            M(i+1, j+1) = 'P';\n",
    "            continue;\n",
    "        end\n",
    "        \n",
    "        % Check vertical\n",
    "        for k = i-1:-1:0\n",
    "            if M(k+1, j+1) == 'P'\n",
    "                M(i+1, j+1) = 'N';\n",
    "                break;\n",
    "            end\n",
    "        end\n",
    "        \n",
    "        % Check horizontal\n",
    "        for k = j-1:-1:0\n",
    "            if M(i+1, k+1) == 'P'\n",
    "                M(i+1, j+1) = 'N';\n",
    "                break;\n",
    "            end\n",
    "        end\n",
    "        \n",
    "        % Check diagonal\n",
    "        for k = 1:min(i, j)\n",
    "            if M(i-k+1, j-k+1) == 'P'\n",
    "                M(i+1, j+1) = 'N';\n",
    "                break;\n",
    "            end\n",
    "        end\n",
    "        \n",
    "        % If it is not a N-position, then it must be a P-position\n",
    "        if M(i+1, j+1) == ' '\n",
    "            M(i+1, j+1) = 'P';\n",
    "        end\n",
    "    end \n",
    "end\n",
    "\n",
    "% Display matrix of N-Positions and P-positions\n",
    "% Comment out line 57-73 if the output matrix is too large\n",
    "fprintf('    ')\n",
    "for i = 0:P2\n",
    "    fprintf('%-4d', i)\n",
    "end\n",
    "fprintf('\\n')\n",
    "\n",
    "for i = 1:P1+1\n",
    "    fprintf('%-4d', i-1)\n",
    "    for j = 1:P2+1\n",
    "        fprintf('%-4c', M(i, j))\n",
    "    end\n",
    "    fprintf('\\n')\n",
    "end\n",
    "\n",
    "% A visualization of Wythoff's game\n",
    "n = 1;\n",
    "X = []; Y = [];\n",
    "\n",
    "for i = 1:size(M, 1)\n",
    "    for j = 1:size(M, 2)\n",
    "        if M(i, j) == 'P'\n",
    "            X(n) = i - 1;\n",
    "            Y(n) = j - 1;\n",
    "            n = n + 1;\n",
    "        end\n",
    "    end\n",
    "end\n",
    "\n",
    "plot(X, Y, 'rx')\n",
    "title('A visualization of Wythoff''s Game')\n",
    "grid on"
   ]
  }
 ],
 "metadata": {
  "kernelspec": {
   "display_name": "Matlab",
   "language": "matlab",
   "name": "matlab"
  },
  "language_info": {
   "codemirror_mode": "octave",
   "file_extension": ".m",
   "help_links": [
    {
     "text": "MetaKernel Magics",
     "url": "https://metakernel.readthedocs.io/en/latest/source/README.html"
    }
   ],
   "mimetype": "text/x-octave",
   "name": "matlab",
   "version": "0.17.1"
  }
 },
 "nbformat": 4,
 "nbformat_minor": 5
}
