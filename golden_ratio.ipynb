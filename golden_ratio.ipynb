{
 "cells": [
  {
   "attachments": {
    "download.png": {
     "image/png": "[encoded data removed]"
    }
   },
   "cell_type": "markdown",
   "id": "6b3180b8",
   "metadata": {},
   "source": [
    "From the output of the program `wythoff.m`, we can observe that if we increase the number of chips, we can observe a “V” pattern on the plot.\n",
    "\n",
    "![download.png](attachment:download.png)\n",
    "\n",
    "According to Wythoff’s discovery, he discovered that the slope of the “V” pattern line equals to the golden \n",
    "ratio\n",
    "$$\n",
    "   \\varphi = \\frac{1+\\sqrt{5}}{2} \\approx 1.6180339887...\n",
    "$$\n",
    "\n",
    "When the number of chips of the two piles increases, the ratio of the number of chips of P-position tends to the golden ratio. Hence, by golden ratio, we can find out all winning moves from a given position easily instead of determining the N-positions and P-positions one by one.\n",
    "\n",
    "In the following program `golden_ratio.m`, we will find out all the winning moves according to a given position. <br>\n",
    "(Assume that the number of chips in the 2 piles are non-empty)"
   ]
  },
  {
   "cell_type": "markdown",
   "id": "b708076b",
   "metadata": {},
   "source": [
    "Required variables"
   ]
  },
  {
   "cell_type": "code",
   "execution_count": 1,
   "id": "3480f8c8",
   "metadata": {},
   "outputs": [
    {
     "name": "stdout",
     "output_type": "stream",
     "text": [
      "\n"
     ]
    }
   ],
   "source": [
    "n = 1;\n",
    "w1 = []; w2 = [];\n",
    "GR = 0.5*(1+sqrt(5)); % Golden ratio"
   ]
  },
  {
   "cell_type": "markdown",
   "id": "b98e3573",
   "metadata": {},
   "source": [
    "Original statements for user input"
   ]
  },
  {
   "cell_type": "raw",
   "id": "7bb4b4de",
   "metadata": {},
   "source": [
    "while true\n",
    "    Pos1 = input('Input number of chips of the 1st pile: ');\n",
    "    Pos2 = input('Input number of chips of the 2nd pile: ');\n",
    "    if Pos1 == 0 && Pos2 == 0\n",
    "        fprintf('The piles must be non-empty.\\n')\n",
    "        continue;\n",
    "    end\n",
    "    break;\n",
    "end"
   ]
  },
  {
   "cell_type": "markdown",
   "id": "f6a2cbb7",
   "metadata": {},
   "source": [
    "#### Example 1: ####\n",
    "15 chips in the 1st pile and 23 chips in the 2nd pile"
   ]
  },
  {
   "cell_type": "code",
   "execution_count": 2,
   "id": "96bd03f2",
   "metadata": {},
   "outputs": [
    {
     "name": "stdout",
     "output_type": "stream",
     "text": [
      "\n"
     ]
    }
   ],
   "source": [
    "Pos1 = 15;\n",
    "Pos2 = 23;"
   ]
  },
  {
   "cell_type": "markdown",
   "id": "141db04a",
   "metadata": {},
   "source": [
    "Check the 1st position"
   ]
  },
  {
   "cell_type": "code",
   "execution_count": 3,
   "id": "142da6c1",
   "metadata": {},
   "outputs": [
    {
     "name": "stdout",
     "output_type": "stream",
     "text": [
      "\n"
     ]
    }
   ],
   "source": [
    "A = floor(ceil(Pos1/GR)*GR);\n",
    "B = floor(ceil(Pos1/(GR+1))*(GR+1));\n",
    "\n",
    "if A == Pos1\n",
    "    if A + ceil(Pos1/GR) < Pos2\n",
    "        w1(n) = A;\n",
    "        w2(n) = A + ceil(Pos1/GR);\n",
    "        n = n + 1;\n",
    "    end   \n",
    "elseif B == Pos1\n",
    "    if B - ceil(Pos1/(GR+1)) < Pos2\n",
    "        w1(n) = B;\n",
    "        w2(n) = B - ceil(Pos1/(GR+1));\n",
    "        n = n + 1;\n",
    "    end\n",
    "end"
   ]
  },
  {
   "cell_type": "markdown",
   "id": "04adaecd",
   "metadata": {},
   "source": [
    "Check the 2nd position"
   ]
  },
  {
   "cell_type": "code",
   "execution_count": 4,
   "id": "3390dec2",
   "metadata": {},
   "outputs": [
    {
     "name": "stdout",
     "output_type": "stream",
     "text": [
      "\n"
     ]
    }
   ],
   "source": [
    "A = floor(ceil(Pos2/GR)*GR);\n",
    "B = floor(ceil(Pos2/(GR+1))*(GR+1));\n",
    "\n",
    "if A == Pos2\n",
    "    if A + ceil(Pos2/GR) < Pos1\n",
    "        w1(n) = A + ceil(Pos2/GR);\n",
    "        w2(n) = A;\n",
    "        n = n + 1;\n",
    "    end \n",
    "elseif B == Pos2\n",
    "    if B - ceil(Pos2/(GR+1)) < Pos1\n",
    "        w1(n) = B - ceil(Pos2/(GR+1));\n",
    "        w2(n) = B;\n",
    "        n = n + 1;\n",
    "    end\n",
    "end"
   ]
  },
  {
   "cell_type": "markdown",
   "id": "53b40d6f",
   "metadata": {},
   "source": [
    "Check the difference of Pos1 and Pos2"
   ]
  },
  {
   "cell_type": "code",
   "execution_count": 5,
   "id": "4c8edaff",
   "metadata": {},
   "outputs": [
    {
     "name": "stdout",
     "output_type": "stream",
     "text": [
      "\n"
     ]
    }
   ],
   "source": [
    "if Pos1 < Pos2\n",
    "    D = Pos2 - Pos1;\n",
    "    A = floor(D*GR);\n",
    "    B = floor(D*(GR+1));\n",
    "    \n",
    "    if A < Pos1 && B < Pos2\n",
    "        w1(n) = A;\n",
    "        w2(n) = B;\n",
    "    end\n",
    "elseif Pos1 > Pos2\n",
    "    D = Pos1 - Pos2;\n",
    "    A = floor(D*GR);\n",
    "    B = floor(D*(GR+1));\n",
    "    \n",
    "    if A < Pos2 && B < Pos1\n",
    "        w1(n) = B;\n",
    "        w2(n) = A;\n",
    "    end\n",
    "end"
   ]
  },
  {
   "cell_type": "markdown",
   "id": "5539c70f",
   "metadata": {},
   "source": [
    "Display all winning moves"
   ]
  },
  {
   "cell_type": "code",
   "execution_count": 6,
   "id": "cbdcd1cd",
   "metadata": {},
   "outputs": [
    {
     "name": "stdout",
     "output_type": "stream",
     "text": [
      "The winning moves are:\n",
      "(15,9) by removing 0 chips from the 1st pile and 14 chips from the 2nd pile.\n",
      "(14,23) by removing 1 chips from the 1st pile and 0 chips from the 2nd pile.\n",
      "(12,20) by removing 3 chips from the 1st pile and 3 chips from the 2nd pile.\n",
      "\n"
     ]
    }
   ],
   "source": [
    "if Pos1 == Pos2\n",
    "    fprintf('We can win the game directly by removing all chips from the 1st pile and the 2nd pile.\\n')\n",
    "elseif length(w1) < 1\n",
    "    fprintf('It is a P-position, there are no winning moves.\\n')\n",
    "elseif length(w1) > 1\n",
    "    fprintf('The winning moves are:\\n')\n",
    "    for i = 1:length(w1)\n",
    "        fprintf('(%d,%d) by removing %d chips from the 1st pile and %d chips from the 2nd pile.\\n', w1(i), w2(i), Pos1-w1(i), Pos2-w2(i))\n",
    "    end\n",
    "elseif length(w1) == 1\n",
    "    fprintf('The only winning move is:\\n')\n",
    "    fprintf('(%d,%d) by removing %d chips from the 1st pile and %d chips from the 2nd pile.\\n', w1(1), w2(1), Pos1-w1(1), Pos2-w2(1))\n",
    "end"
   ]
  },
  {
   "cell_type": "markdown",
   "id": "93fedfa3",
   "metadata": {},
   "source": [
    "#### Example 2: ####\n",
    "23 chips in the 1st pile and 15 chips in the 2nd pile"
   ]
  },
  {
   "cell_type": "code",
   "execution_count": 7,
   "id": "04a75d84",
   "metadata": {},
   "outputs": [
    {
     "name": "stdout",
     "output_type": "stream",
     "text": [
      "The winning moves are:\n",
      "(23,14) by removing 0 chips from the 1st pile and 1 chips from the 2nd pile.\n",
      "(9,15) by removing 14 chips from the 1st pile and 0 chips from the 2nd pile.\n",
      "(20,12) by removing 3 chips from the 1st pile and 3 chips from the 2nd pile.\n",
      "\n"
     ]
    }
   ],
   "source": [
    "clear all\n",
    "\n",
    "n = 1;\n",
    "w1 = []; w2 = [];\n",
    "GR = 0.5*(1+sqrt(5)); % Golden ratio\n",
    "\n",
    "Pos1 = 23;\n",
    "Pos2 = 15;\n",
    "\n",
    "% Check the 1st position\n",
    "A = floor(ceil(Pos1/GR)*GR);\n",
    "B = floor(ceil(Pos1/(GR+1))*(GR+1));\n",
    "\n",
    "if A == Pos1\n",
    "    if A + ceil(Pos1/GR) < Pos2\n",
    "        w1(n) = A;\n",
    "        w2(n) = A + ceil(Pos1/GR);\n",
    "        n = n + 1;\n",
    "    end   \n",
    "elseif B == Pos1\n",
    "    if B - ceil(Pos1/(GR+1)) < Pos2\n",
    "        w1(n) = B;\n",
    "        w2(n) = B - ceil(Pos1/(GR+1));\n",
    "        n = n + 1;\n",
    "    end\n",
    "end\n",
    "\n",
    "% Check the 2nd position\n",
    "A = floor(ceil(Pos2/GR)*GR);\n",
    "B = floor(ceil(Pos2/(GR+1))*(GR+1));\n",
    "\n",
    "if A == Pos2\n",
    "    if A + ceil(Pos2/GR) < Pos1\n",
    "        w1(n) = A + ceil(Pos2/GR);\n",
    "        w2(n) = A;\n",
    "        n = n + 1;\n",
    "    end \n",
    "elseif B == Pos2\n",
    "    if B - ceil(Pos2/(GR+1)) < Pos1\n",
    "        w1(n) = B - ceil(Pos2/(GR+1));\n",
    "        w2(n) = B;\n",
    "        n = n + 1;\n",
    "    end\n",
    "end\n",
    "\n",
    "% Check the difference of Pos1 and Pos2\n",
    "if Pos1 < Pos2\n",
    "    D = Pos2 - Pos1;\n",
    "    A = floor(D*GR);\n",
    "    B = floor(D*(GR+1));\n",
    "    \n",
    "    if A < Pos1 && B < Pos2\n",
    "        w1(n) = A;\n",
    "        w2(n) = B;\n",
    "    end\n",
    "elseif Pos1 > Pos2\n",
    "    D = Pos1 - Pos2;\n",
    "    A = floor(D*GR);\n",
    "    B = floor(D*(GR+1));\n",
    "    \n",
    "    if A < Pos2 && B < Pos1\n",
    "        w1(n) = B;\n",
    "        w2(n) = A;\n",
    "    end\n",
    "end\n",
    "\n",
    "% Display all winning moves\n",
    "if Pos1 == Pos2\n",
    "    fprintf('We can win the game directly by removing all chips from the 1st pile and the 2nd pile.\\n')\n",
    "elseif length(w1) < 1\n",
    "    fprintf('It is a P-position, there are no winning moves.\\n')\n",
    "elseif length(w1) > 1\n",
    "    fprintf('The winning moves are:\\n')\n",
    "    for i = 1:length(w1)\n",
    "        fprintf('(%d,%d) by removing %d chips from the 1st pile and %d chips from the 2nd pile.\\n', w1(i), w2(i), Pos1-w1(i), Pos2-w2(i))\n",
    "    end\n",
    "elseif length(w1) == 1\n",
    "    fprintf('The only winning move is:\\n')\n",
    "    fprintf('(%d,%d) by removing %d chips from the 1st pile and %d chips from the 2nd pile.\\n', w1(1), w2(1), Pos1-w1(1), Pos2-w2(1))\n",
    "end"
   ]
  },
  {
   "cell_type": "markdown",
   "id": "8c04e8da",
   "metadata": {},
   "source": [
    "#### Example 3: ####\n",
    "100 chips in the 1st pile and 160 chips in the 2nd pile"
   ]
  },
  {
   "cell_type": "code",
   "execution_count": 8,
   "id": "5a2a55b0",
   "metadata": {},
   "outputs": [
    {
     "name": "stdout",
     "output_type": "stream",
     "text": [
      "The only winning move is:\n",
      "(97,157) by removing 3 chips from the 1st pile and 3 chips from the 2nd pile.\n",
      "\n"
     ]
    }
   ],
   "source": [
    "clear all\n",
    "\n",
    "n = 1;\n",
    "w1 = []; w2 = [];\n",
    "GR = 0.5*(1+sqrt(5)); % Golden ratio\n",
    "\n",
    "Pos1 = 100;\n",
    "Pos2 = 160;\n",
    "\n",
    "% Check the 1st position\n",
    "A = floor(ceil(Pos1/GR)*GR);\n",
    "B = floor(ceil(Pos1/(GR+1))*(GR+1));\n",
    "\n",
    "if A == Pos1\n",
    "    if A + ceil(Pos1/GR) < Pos2\n",
    "        w1(n) = A;\n",
    "        w2(n) = A + ceil(Pos1/GR);\n",
    "        n = n + 1;\n",
    "    end   \n",
    "elseif B == Pos1\n",
    "    if B - ceil(Pos1/(GR+1)) < Pos2\n",
    "        w1(n) = B;\n",
    "        w2(n) = B - ceil(Pos1/(GR+1));\n",
    "        n = n + 1;\n",
    "    end\n",
    "end\n",
    "\n",
    "% Check the 2nd position\n",
    "A = floor(ceil(Pos2/GR)*GR);\n",
    "B = floor(ceil(Pos2/(GR+1))*(GR+1));\n",
    "\n",
    "if A == Pos2\n",
    "    if A + ceil(Pos2/GR) < Pos1\n",
    "        w1(n) = A + ceil(Pos2/GR);\n",
    "        w2(n) = A;\n",
    "        n = n + 1;\n",
    "    end \n",
    "elseif B == Pos2\n",
    "    if B - ceil(Pos2/(GR+1)) < Pos1\n",
    "        w1(n) = B - ceil(Pos2/(GR+1));\n",
    "        w2(n) = B;\n",
    "        n = n + 1;\n",
    "    end\n",
    "end\n",
    "\n",
    "% Check the difference of Pos1 and Pos2\n",
    "if Pos1 < Pos2\n",
    "    D = Pos2 - Pos1;\n",
    "    A = floor(D*GR);\n",
    "    B = floor(D*(GR+1));\n",
    "    \n",
    "    if A < Pos1 && B < Pos2\n",
    "        w1(n) = A;\n",
    "        w2(n) = B;\n",
    "    end\n",
    "elseif Pos1 > Pos2\n",
    "    D = Pos1 - Pos2;\n",
    "    A = floor(D*GR);\n",
    "    B = floor(D*(GR+1));\n",
    "    \n",
    "    if A < Pos2 && B < Pos1\n",
    "        w1(n) = B;\n",
    "        w2(n) = A;\n",
    "    end\n",
    "end\n",
    "\n",
    "% Display all winning moves\n",
    "if Pos1 == Pos2\n",
    "    fprintf('We can win the game directly by removing all chips from the 1st pile and the 2nd pile.\\n')\n",
    "elseif length(w1) < 1\n",
    "    fprintf('It is a P-position, there are no winning moves.\\n')\n",
    "elseif length(w1) > 1\n",
    "    fprintf('The winning moves are:\\n')\n",
    "    for i = 1:length(w1)\n",
    "        fprintf('(%d,%d) by removing %d chips from the 1st pile and %d chips from the 2nd pile.\\n', w1(i), w2(i), Pos1-w1(i), Pos2-w2(i))\n",
    "    end\n",
    "elseif length(w1) == 1\n",
    "    fprintf('The only winning move is:\\n')\n",
    "    fprintf('(%d,%d) by removing %d chips from the 1st pile and %d chips from the 2nd pile.\\n', w1(1), w2(1), Pos1-w1(1), Pos2-w2(1))\n",
    "end"
   ]
  },
  {
   "cell_type": "markdown",
   "id": "b646b892",
   "metadata": {},
   "source": [
    "#### Example 4: ####\n",
    "10 chips in the 1st pile and 10 chips in the 2nd pile"
   ]
  },
  {
   "cell_type": "code",
   "execution_count": 9,
   "id": "86813007",
   "metadata": {},
   "outputs": [
    {
     "name": "stdout",
     "output_type": "stream",
     "text": [
      "We can win the game directly by removing all chips from the 1st pile and the 2nd pile.\n",
      "\n"
     ]
    }
   ],
   "source": [
    "clear all\n",
    "\n",
    "n = 1;\n",
    "w1 = []; w2 = [];\n",
    "GR = 0.5*(1+sqrt(5)); % Golden ratio\n",
    "\n",
    "Pos1 = 10;\n",
    "Pos2 = 10;\n",
    "\n",
    "% Check the 1st position\n",
    "A = floor(ceil(Pos1/GR)*GR);\n",
    "B = floor(ceil(Pos1/(GR+1))*(GR+1));\n",
    "\n",
    "if A == Pos1\n",
    "    if A + ceil(Pos1/GR) < Pos2\n",
    "        w1(n) = A;\n",
    "        w2(n) = A + ceil(Pos1/GR);\n",
    "        n = n + 1;\n",
    "    end   \n",
    "elseif B == Pos1\n",
    "    if B - ceil(Pos1/(GR+1)) < Pos2\n",
    "        w1(n) = B;\n",
    "        w2(n) = B - ceil(Pos1/(GR+1));\n",
    "        n = n + 1;\n",
    "    end\n",
    "end\n",
    "\n",
    "% Check the 2nd position\n",
    "A = floor(ceil(Pos2/GR)*GR);\n",
    "B = floor(ceil(Pos2/(GR+1))*(GR+1));\n",
    "\n",
    "if A == Pos2\n",
    "    if A + ceil(Pos2/GR) < Pos1\n",
    "        w1(n) = A + ceil(Pos2/GR);\n",
    "        w2(n) = A;\n",
    "        n = n + 1;\n",
    "    end \n",
    "elseif B == Pos2\n",
    "    if B - ceil(Pos2/(GR+1)) < Pos1\n",
    "        w1(n) = B - ceil(Pos2/(GR+1));\n",
    "        w2(n) = B;\n",
    "        n = n + 1;\n",
    "    end\n",
    "end\n",
    "\n",
    "% Check the difference of Pos1 and Pos2\n",
    "if Pos1 < Pos2\n",
    "    D = Pos2 - Pos1;\n",
    "    A = floor(D*GR);\n",
    "    B = floor(D*(GR+1));\n",
    "    \n",
    "    if A < Pos1 && B < Pos2\n",
    "        w1(n) = A;\n",
    "        w2(n) = B;\n",
    "    end\n",
    "elseif Pos1 > Pos2\n",
    "    D = Pos1 - Pos2;\n",
    "    A = floor(D*GR);\n",
    "    B = floor(D*(GR+1));\n",
    "    \n",
    "    if A < Pos2 && B < Pos1\n",
    "        w1(n) = B;\n",
    "        w2(n) = A;\n",
    "    end\n",
    "end\n",
    "\n",
    "% Display all winning moves\n",
    "if Pos1 == Pos2\n",
    "    fprintf('We can win the game directly by removing all chips from the 1st pile and the 2nd pile.\\n')\n",
    "elseif length(w1) < 1\n",
    "    fprintf('It is a P-position, there are no winning moves.\\n')\n",
    "elseif length(w1) > 1\n",
    "    fprintf('The winning moves are:\\n')\n",
    "    for i = 1:length(w1)\n",
    "        fprintf('(%d,%d) by removing %d chips from the 1st pile and %d chips from the 2nd pile.\\n', w1(i), w2(i), Pos1-w1(i), Pos2-w2(i))\n",
    "    end\n",
    "elseif length(w1) == 1\n",
    "    fprintf('The only winning move is:\\n')\n",
    "    fprintf('(%d,%d) by removing %d chips from the 1st pile and %d chips from the 2nd pile.\\n', w1(1), w2(1), Pos1-w1(1), Pos2-w2(1))\n",
    "end"
   ]
  },
  {
   "cell_type": "markdown",
   "id": "7817fbec",
   "metadata": {},
   "source": [
    "#### Example 5: ####\n",
    "2618 chips in the 1st pile and 1618 chips in the 2nd pile"
   ]
  },
  {
   "cell_type": "code",
   "execution_count": 10,
   "id": "6fddfb39",
   "metadata": {},
   "outputs": [
    {
     "name": "stdout",
     "output_type": "stream",
     "text": [
      "It is a P-position, there are no winning moves.\n",
      "\n"
     ]
    }
   ],
   "source": [
    "clear all\n",
    "\n",
    "n = 1;\n",
    "w1 = []; w2 = [];\n",
    "GR = 0.5*(1+sqrt(5)); % Golden ratio\n",
    "\n",
    "Pos1 = 2618;\n",
    "Pos2 = 1618;\n",
    "\n",
    "% Check the 1st position\n",
    "A = floor(ceil(Pos1/GR)*GR);\n",
    "B = floor(ceil(Pos1/(GR+1))*(GR+1));\n",
    "\n",
    "if A == Pos1\n",
    "    if A + ceil(Pos1/GR) < Pos2\n",
    "        w1(n) = A;\n",
    "        w2(n) = A + ceil(Pos1/GR);\n",
    "        n = n + 1;\n",
    "    end   \n",
    "elseif B == Pos1\n",
    "    if B - ceil(Pos1/(GR+1)) < Pos2\n",
    "        w1(n) = B;\n",
    "        w2(n) = B - ceil(Pos1/(GR+1));\n",
    "        n = n + 1;\n",
    "    end\n",
    "end\n",
    "\n",
    "% Check the 2nd position\n",
    "A = floor(ceil(Pos2/GR)*GR);\n",
    "B = floor(ceil(Pos2/(GR+1))*(GR+1));\n",
    "\n",
    "if A == Pos2\n",
    "    if A + ceil(Pos2/GR) < Pos1\n",
    "        w1(n) = A + ceil(Pos2/GR);\n",
    "        w2(n) = A;\n",
    "        n = n + 1;\n",
    "    end \n",
    "elseif B == Pos2\n",
    "    if B - ceil(Pos2/(GR+1)) < Pos1\n",
    "        w1(n) = B - ceil(Pos2/(GR+1));\n",
    "        w2(n) = B;\n",
    "        n = n + 1;\n",
    "    end\n",
    "end\n",
    "\n",
    "% Check the difference of Pos1 and Pos2\n",
    "if Pos1 < Pos2\n",
    "    D = Pos2 - Pos1;\n",
    "    A = floor(D*GR);\n",
    "    B = floor(D*(GR+1));\n",
    "    \n",
    "    if A < Pos1 && B < Pos2\n",
    "        w1(n) = A;\n",
    "        w2(n) = B;\n",
    "    end\n",
    "elseif Pos1 > Pos2\n",
    "    D = Pos1 - Pos2;\n",
    "    A = floor(D*GR);\n",
    "    B = floor(D*(GR+1));\n",
    "    \n",
    "    if A < Pos2 && B < Pos1\n",
    "        w1(n) = B;\n",
    "        w2(n) = A;\n",
    "    end\n",
    "end\n",
    "\n",
    "% Display all winning moves\n",
    "if Pos1 == Pos2\n",
    "    fprintf('We can win the game directly by removing all chips from the 1st pile and the 2nd pile.\\n')\n",
    "elseif length(w1) < 1\n",
    "    fprintf('It is a P-position, there are no winning moves.\\n')\n",
    "elseif length(w1) > 1\n",
    "    fprintf('The winning moves are:\\n')\n",
    "    for i = 1:length(w1)\n",
    "        fprintf('(%d,%d) by removing %d chips from the 1st pile and %d chips from the 2nd pile.\\n', w1(i), w2(i), Pos1-w1(i), Pos2-w2(i))\n",
    "    end\n",
    "elseif length(w1) == 1\n",
    "    fprintf('The only winning move is:\\n')\n",
    "    fprintf('(%d,%d) by removing %d chips from the 1st pile and %d chips from the 2nd pile.\\n', w1(1), w2(1), Pos1-w1(1), Pos2-w2(1))\n",
    "end"
   ]
  }
 ],
 "metadata": {
  "kernelspec": {
   "display_name": "Matlab",
   "language": "matlab",
   "name": "matlab"
  },
  "language_info": {
   "codemirror_mode": "octave",
   "file_extension": ".m",
   "help_links": [
    {
     "text": "MetaKernel Magics",
     "url": "https://metakernel.readthedocs.io/en/latest/source/README.html"
    }
   ],
   "mimetype": "text/x-octave",
   "name": "matlab",
   "version": "0.17.1"
  }
 },
 "nbformat": 4,
 "nbformat_minor": 5
}
